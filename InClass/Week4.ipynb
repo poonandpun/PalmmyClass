{
  "nbformat": 4,
  "nbformat_minor": 0,
  "metadata": {
    "colab": {
      "provenance": []
    },
    "kernelspec": {
      "name": "python3",
      "display_name": "Python 3"
    },
    "language_info": {
      "name": "python"
    }
  },
  "cells": [
    {
      "cell_type": "markdown",
      "source": [
        "<h1>OOP Concept</h1>"
      ],
      "metadata": {
        "id": "YqZAJI5lWfVL"
      }
    },
    {
      "cell_type": "code",
      "execution_count": null,
      "metadata": {
        "id": "Fo6cQP15WZvc"
      },
      "outputs": [],
      "source": [
        "class Face:\n",
        "  def __init__ (self, eye, ear, nose, mouth):\n",
        "    # set attribute\n",
        "    self.eye = eye\n",
        "    self.ear = ear\n",
        "    self.nose = nose\n",
        "    self.mouth = mouth"
      ]
    },
    {
      "cell_type": "code",
      "source": [
        "face = Face(2, 2, 1, 1)"
      ],
      "metadata": {
        "id": "2GRQ6OjNbIPH"
      },
      "execution_count": null,
      "outputs": []
    },
    {
      "cell_type": "code",
      "source": [
        "print(face)"
      ],
      "metadata": {
        "colab": {
          "base_uri": "https://localhost:8080/"
        },
        "id": "16piz-BNbQwO",
        "outputId": "2cfe4227-e5e1-49ad-c174-5320ad112acb"
      },
      "execution_count": null,
      "outputs": [
        {
          "output_type": "stream",
          "name": "stdout",
          "text": [
            "<__main__.Face object at 0x7ae6f274c1f0>\n"
          ]
        }
      ]
    },
    {
      "cell_type": "code",
      "source": [
        "face.eye"
      ],
      "metadata": {
        "colab": {
          "base_uri": "https://localhost:8080/"
        },
        "id": "93lc6fjdbUZ9",
        "outputId": "60e8ecdc-fe04-49e8-d4dc-7cf7fa939353"
      },
      "execution_count": null,
      "outputs": [
        {
          "output_type": "execute_result",
          "data": {
            "text/plain": [
              "2"
            ]
          },
          "metadata": {},
          "execution_count": 4
        }
      ]
    },
    {
      "cell_type": "code",
      "source": [
        "face2 = Face(3, 2, 1, 1)"
      ],
      "metadata": {
        "id": "CrelP6IHcZke"
      },
      "execution_count": null,
      "outputs": []
    },
    {
      "cell_type": "code",
      "source": [
        "face2.eye"
      ],
      "metadata": {
        "colab": {
          "base_uri": "https://localhost:8080/"
        },
        "id": "Ou5Y44ibchoh",
        "outputId": "933ad6f1-5af6-4254-8a8f-04053ebda2a6"
      },
      "execution_count": null,
      "outputs": [
        {
          "output_type": "execute_result",
          "data": {
            "text/plain": [
              "3"
            ]
          },
          "metadata": {},
          "execution_count": 6
        }
      ]
    },
    {
      "cell_type": "markdown",
      "source": [
        "<h2>Task : ให้สร้าง class student โดย มีตัวแปรดังนี้</h2>\n",
        "<ol>\n",
        "  <li>ข้อมูลของ น้ำหนัก</li>\n",
        "  <li>ข้อมูลของ ส่วนสูง</li>\n",
        "  <li>ข้อมูลของ อายุ</li>\n",
        "  <li>ข้อมูลของ เกรด</li>\n",
        "  <li>ข้อมูลของ ชื่อ</li>\n",
        "  <li>ข้อมูลของ นามสกุล</li>\n",
        "</ol>"
      ],
      "metadata": {
        "id": "Q8lzdVlYc0qj"
      }
    },
    {
      "cell_type": "code",
      "source": [
        "class Student:\n",
        "  def __init__ (self, weight, hight, age, grade, name,surname):\n",
        "    # set attribute\n",
        "    self.weight = weight\n",
        "    self.hight = hight\n",
        "    self.age = age\n",
        "    self.grade = grade\n",
        "    self.name = name\n",
        "    self.surname = surname\n",
        "  # method\n",
        "  def showStudentData(self):\n",
        "    print(\"Data of : \" + self.name + \" \" + self.surname)\n",
        "    print(\"weight : \" + str(self.weight))\n",
        "    print(\"hight : \" + str(self.hight))\n",
        "    print(\"age : \" + str(self.age))\n",
        "\n",
        "  def hightToInch(self):\n",
        "    inchHeight = self.hight * 0.3937\n",
        "    return inchHeight\n"
      ],
      "metadata": {
        "id": "-AFWpiFRcjgE"
      },
      "execution_count": null,
      "outputs": []
    },
    {
      "cell_type": "code",
      "source": [
        "student = Student(60,160,18,3.87,\"Naphat\",\"Sintuwattanawiboon\")"
      ],
      "metadata": {
        "id": "KWfes2W3fIS5"
      },
      "execution_count": null,
      "outputs": []
    },
    {
      "cell_type": "code",
      "source": [
        "student.showStudentData()"
      ],
      "metadata": {
        "colab": {
          "base_uri": "https://localhost:8080/"
        },
        "id": "k-6Q0jsggBBR",
        "outputId": "97a27750-6717-4e5e-f724-f1d5edf76ecb"
      },
      "execution_count": null,
      "outputs": [
        {
          "output_type": "stream",
          "name": "stdout",
          "text": [
            "Data of : Naphat Sintuwattanawiboon\n",
            "weight : 60\n",
            "hight : 160\n",
            "age : 18\n"
          ]
        }
      ]
    },
    {
      "cell_type": "code",
      "source": [
        "result = student.hightToInch()\n",
        "print(result)"
      ],
      "metadata": {
        "colab": {
          "base_uri": "https://localhost:8080/"
        },
        "id": "RHcxsLsigFIi",
        "outputId": "cc9de658-0c38-4fb4-afd8-54b5fa5f6d96"
      },
      "execution_count": null,
      "outputs": [
        {
          "output_type": "stream",
          "name": "stdout",
          "text": [
            "62.992\n"
          ]
        }
      ]
    },
    {
      "cell_type": "markdown",
      "source": [
        "<h2>คุณสมบัติของ object</h2>"
      ],
      "metadata": {
        "id": "YbfqY2PslN2i"
      }
    },
    {
      "cell_type": "markdown",
      "source": [
        "<h3>Encapsulation : เข้ารหัส</h3>\n",
        "<p> มันไม่สามารถเอาข้อมูลใน object ออกมาดูได้ผ่านการ print , มันจะต้องเรียกใช้ method ที่อยู่ใน class เท่านั้น</p>"
      ],
      "metadata": {
        "id": "qUbBZ1VDlR9Z"
      }
    },
    {
      "cell_type": "code",
      "source": [
        "print(student)"
      ],
      "metadata": {
        "colab": {
          "base_uri": "https://localhost:8080/"
        },
        "id": "nIW3LoCPlDk2",
        "outputId": "070fca86-c567-4151-b355-08d2c8a4e02f"
      },
      "execution_count": null,
      "outputs": [
        {
          "output_type": "stream",
          "name": "stdout",
          "text": [
            "<__main__.Student object at 0x7ae70ec937f0>\n"
          ]
        }
      ]
    },
    {
      "cell_type": "code",
      "source": [
        "student.showStudentData()"
      ],
      "metadata": {
        "colab": {
          "base_uri": "https://localhost:8080/"
        },
        "id": "IcQ9cj-BlmV3",
        "outputId": "9cfad51f-05db-445d-fa12-2280854ccb70"
      },
      "execution_count": null,
      "outputs": [
        {
          "output_type": "stream",
          "name": "stdout",
          "text": [
            "Data of : Naphat Sintuwattanawiboon\n",
            "weight : 60\n",
            "hight : 160\n",
            "age : 18\n"
          ]
        }
      ]
    },
    {
      "cell_type": "markdown",
      "source": [
        "<h3>Inheritance : การสืบทอด</h3>\n"
      ],
      "metadata": {
        "id": "3GTDDJWtmRwU"
      }
    },
    {
      "cell_type": "code",
      "source": [
        "class StudentUpgrade(Student):\n",
        "  def convertWightToPound(self):\n",
        "    wightConvertResult = self.weight * 2.2046\n",
        "    return wightConvertResult"
      ],
      "metadata": {
        "id": "Ng9weRNMlpBl"
      },
      "execution_count": null,
      "outputs": []
    },
    {
      "cell_type": "code",
      "source": [
        "studentUpgrade = StudentUpgrade(60,160,18,3.87,\"Naphat\",\"Sintuwattanawiboon\")"
      ],
      "metadata": {
        "id": "rN-k69bOnNld"
      },
      "execution_count": null,
      "outputs": []
    },
    {
      "cell_type": "code",
      "source": [
        "studentUpgrade.showStudentData()"
      ],
      "metadata": {
        "colab": {
          "base_uri": "https://localhost:8080/"
        },
        "id": "Ztsp4yjwnVw7",
        "outputId": "70137586-d920-4057-8e80-4b60065f2574"
      },
      "execution_count": null,
      "outputs": [
        {
          "output_type": "stream",
          "name": "stdout",
          "text": [
            "Data of : Naphat Sintuwattanawiboon\n",
            "weight : 60\n",
            "hight : 160\n",
            "age : 18\n"
          ]
        }
      ]
    },
    {
      "cell_type": "code",
      "source": [
        "studentUpgrade.convertWightToPound()"
      ],
      "metadata": {
        "colab": {
          "base_uri": "https://localhost:8080/"
        },
        "id": "91rGB-2dnln5",
        "outputId": "f963ee9b-91d2-4946-cecf-cb69c6166165"
      },
      "execution_count": null,
      "outputs": [
        {
          "output_type": "execute_result",
          "data": {
            "text/plain": [
              "132.276"
            ]
          },
          "metadata": {},
          "execution_count": 44
        }
      ]
    },
    {
      "cell_type": "code",
      "source": [
        "studentUpgrade.hightToInch()"
      ],
      "metadata": {
        "colab": {
          "base_uri": "https://localhost:8080/"
        },
        "id": "2TS5TFMLnsXy",
        "outputId": "9958e70f-2956-4eb3-b3e5-9abb66efe164"
      },
      "execution_count": null,
      "outputs": [
        {
          "output_type": "execute_result",
          "data": {
            "text/plain": [
              "62.992"
            ]
          },
          "metadata": {},
          "execution_count": 45
        }
      ]
    },
    {
      "cell_type": "markdown",
      "source": [
        "<h3>Task : ให้สร้าง class ที่เป็นองค์ประกอบของรถยนต์ โดยมีตัวแปร ดังนี้</h3>\n",
        "<ol>\n",
        "  <li>จำนวนล้อ</li>\n",
        "  <li>ความยาวของตัวรถ</li>\n",
        "  <li>ความกว้างของตัวรถ</li>\n",
        "  <li>ยี่ห้อ</li>\n",
        "  <li>รุ่น</li>\n",
        "  <li>ราคา</li>\n",
        "</ol>\n",
        "<p>และมี method ดังนี้</p>\n",
        "<ol>\n",
        "  <li>run : ให้ทำการ print run</li>\n",
        "  <li>data : ให้ print ข้อมูลของตัวรถ</li>\n",
        "</ol>\n",
        "\n",
        "<p>ให้ทำการสร้าง class ตัวลูก ชื่อว่า CarPrice</p>\n",
        "<ol>\n",
        "  <li>PriceCalculate10Month : เอาราคามาหารสิบเดือน</li>\n",
        "  <li>PriceCalculate24Month : เอาราคามาหาร24เดือน</li>\n",
        "</ol>"
      ],
      "metadata": {
        "id": "tVMt5uQmn1wh"
      }
    },
    {
      "cell_type": "code",
      "source": [
        "print(\"run\")"
      ],
      "metadata": {
        "id": "bwZghyP_pJJc",
        "outputId": "f0a6e8f0-ad46-4349-ee64-81512d52b7d9",
        "colab": {
          "base_uri": "https://localhost:8080/"
        }
      },
      "execution_count": null,
      "outputs": [
        {
          "output_type": "stream",
          "name": "stdout",
          "text": [
            "run\n"
          ]
        }
      ]
    },
    {
      "cell_type": "code",
      "source": [
        "class Car:\n",
        "  def __init__ (self, numberofwheels, Lengthofthecar, Widthofthecar, brand, model,  price):\n",
        "    # set attribute\n",
        "    self.numberofwheels = numberofwheels\n",
        "    self.Lengthofthecar = Lengthofthecar\n",
        "    self.widthofthecar = Widthofthecar\n",
        "    self.brand = brand\n",
        "    self.model = model\n",
        "    self.price = price\n",
        "  # method\n",
        "  def Data(self):\n",
        "    print(\"Data of : \" + self.brand + \" \" + self.model)\n",
        "    print(\"numberofwheels : \" + str(self.numberofwheels))\n",
        "    print(\"Lengthofthecar  : \" + str(self.Lengthofthecar))\n",
        "    print(\"widthofthecar : \" + str(self.widthofthecar))\n",
        "    print(\"brand: \" + str(self.brand))\n",
        "    print(\"price \" + str(self.price))\n",
        "\n",
        "  def Run(self):\n",
        "    print(\"run\")\n",
        "\n",
        "class CarPrice(Car):\n",
        "    def PriceCalculate10Month(self):\n",
        "      PriceCalculate10Month  = self.price/ 10\n",
        "      return  PriceCalculate10Month\n",
        "\n",
        "    def PriceCalculate24Month(self):\n",
        "      PriceCalculate24Month = self.price/ 24\n",
        "      return  PriceCalculate24Month\n",
        "\n",
        "car = Car(4,200,250,\"Ford\" ,\"Mustang 5.0L V8 GT Coupe Performance Pack\" , 4999000)"
      ],
      "metadata": {
        "id": "vQLWfXUUtPmN"
      },
      "execution_count": 9,
      "outputs": []
    },
    {
      "cell_type": "code",
      "source": [
        "car"
      ],
      "metadata": {
        "id": "a0wQjf0AutuW",
        "colab": {
          "base_uri": "https://localhost:8080/"
        },
        "outputId": "d1359900-7291-4dc6-cb00-273ed7ea43ed"
      },
      "execution_count": 10,
      "outputs": [
        {
          "output_type": "execute_result",
          "data": {
            "text/plain": [
              "<__main__.Car at 0x7838fe3f9360>"
            ]
          },
          "metadata": {},
          "execution_count": 10
        }
      ]
    },
    {
      "cell_type": "code",
      "source": [
        "car.Data()"
      ],
      "metadata": {
        "id": "A-jJ_90rw5Tj",
        "colab": {
          "base_uri": "https://localhost:8080/"
        },
        "outputId": "9ee4f11b-d929-4d71-b258-2c2e367f35c3"
      },
      "execution_count": 11,
      "outputs": [
        {
          "output_type": "stream",
          "name": "stdout",
          "text": [
            "Data of : Ford Mustang 5.0L V8 GT Coupe Performance Pack\n",
            "numberofwheels : 4\n",
            "Lengthofthecar  : 200\n",
            "widthofthecar : 250\n",
            "brand: Ford\n",
            "price 4999000\n"
          ]
        }
      ]
    },
    {
      "cell_type": "code",
      "source": [
        "car.Run()"
      ],
      "metadata": {
        "colab": {
          "base_uri": "https://localhost:8080/"
        },
        "id": "6swrRjPKYrrl",
        "outputId": "ce6a986f-d2ea-4ddd-a367-798598724216"
      },
      "execution_count": 12,
      "outputs": [
        {
          "output_type": "stream",
          "name": "stdout",
          "text": [
            "run\n"
          ]
        }
      ]
    },
    {
      "cell_type": "code",
      "source": [
        "car = CarPrice(4,200,250,\"Ford\" ,\"Mustang 5.0L V8 GT Coupe Performance Pack\" , 4999000)"
      ],
      "metadata": {
        "id": "-w6iFg03Y2_9"
      },
      "execution_count": 13,
      "outputs": []
    },
    {
      "cell_type": "code",
      "source": [
        "car.PriceCalculate10Month()"
      ],
      "metadata": {
        "colab": {
          "base_uri": "https://localhost:8080/"
        },
        "id": "RuR2c_KzZAxH",
        "outputId": "25db6c8d-97ea-48c6-b657-e5fe749a1e37"
      },
      "execution_count": 14,
      "outputs": [
        {
          "output_type": "execute_result",
          "data": {
            "text/plain": [
              "499900.0"
            ]
          },
          "metadata": {},
          "execution_count": 14
        }
      ]
    },
    {
      "cell_type": "code",
      "source": [
        "car.PriceCalculate24Month()"
      ],
      "metadata": {
        "colab": {
          "base_uri": "https://localhost:8080/"
        },
        "id": "pCYNORCkZDTN",
        "outputId": "bf8e14a0-1a66-4e64-f2a2-3b8d74538025"
      },
      "execution_count": 16,
      "outputs": [
        {
          "output_type": "execute_result",
          "data": {
            "text/plain": [
              "208291.66666666666"
            ]
          },
          "metadata": {},
          "execution_count": 16
        }
      ]
    },
    {
      "cell_type": "code",
      "source": [],
      "metadata": {
        "id": "8ZQf2ZKdZGfw"
      },
      "execution_count": null,
      "outputs": []
    }
  ]
}